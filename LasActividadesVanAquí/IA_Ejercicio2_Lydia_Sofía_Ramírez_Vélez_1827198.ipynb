{
  "nbformat": 4,
  "nbformat_minor": 0,
  "metadata": {
    "colab": {
      "name": "IA_Ejercicio2_Lydia Sofía Ramírez Vélez_1827198",
      "provenance": [],
      "collapsed_sections": []
    },
    "kernelspec": {
      "display_name": "Python 3",
      "name": "python3"
    },
    "language_info": {
      "name": "python"
    }
  },
  "cells": [
    {
      "cell_type": "markdown",
      "metadata": {
        "id": "U0kuvqn8P3oR"
      },
      "source": [
        "Actividad 3.- Ejercicios Introducción Python, segunda parte\n",
        "\n",
        "Lydia Sofía Ramírez Vélez 1827198\n",
        "\n",
        "Inteligencia Artificial y Redes Neuronales Jueves N4"
      ]
    },
    {
      "cell_type": "markdown",
      "metadata": {
        "id": "As02kOppP6Nj"
      },
      "source": [
        "Ejercicio 1:\n",
        "1.1 Piensa en 7 comidas diferente que te gusten. Implementa un programa que pregunte por las 7 comidas, las almacene en una lista y que posteriermente imprima cada una de ellas utilizando uno de los ciclos comentados en clase. "
      ]
    },
    {
      "cell_type": "code",
      "metadata": {
        "colab": {
          "base_uri": "https://localhost:8080/"
        },
        "id": "QVQ2XhaNQUQE",
        "outputId": "d2a3984d-baec-4495-d0d5-5168f13a09b0"
      },
      "source": [
        "comidas=[]\n",
        "for i in range(7): #uso range para obtener la secuencia de números que se incrementa de 1 en 1 automáticamente\n",
        "  comidas.append(input(\" %s Comida que te gusta: \" %(i+1))) #Uso append para agregar los elementos a la lista \"comidas\" e input es para cadenas\n",
        "for i in range(7):\n",
        "    print(comidas[i]) #Se usa otro for para imprimir una vez que termine de preguntar\n",
        "\n"
      ],
      "execution_count": null,
      "outputs": [
        {
          "name": "stdout",
          "output_type": "stream",
          "text": [
            " 1 Comida que te gusta: Sushi\n",
            " 2 Comida que te gusta: Tacos\n",
            " 3 Comida que te gusta: Hamburguesa\n",
            " 4 Comida que te gusta: Pizza\n",
            " 5 Comida que te gusta: Lasaña\n",
            " 6 Comida que te gusta: Alitas\n",
            " 7 Comida que te gusta: Aguachile\n",
            "Sushi\n",
            "Tacos\n",
            "Hamburguesa\n",
            "Pizza\n",
            "Lasaña\n",
            "Alitas\n",
            "Aguachile\n"
          ]
        }
      ]
    },
    {
      "cell_type": "markdown",
      "metadata": {
        "id": "pS_Zl-sOP-6m"
      },
      "source": [
        "1.2 Modifica el ejercicio 1.1 para que imprima cada una de las comidas favoritas junto con una oracición inicial: \"Una de mis comidas favoritas es [comida1]\".  "
      ]
    },
    {
      "cell_type": "code",
      "metadata": {
        "colab": {
          "base_uri": "https://localhost:8080/"
        },
        "id": "VYpfh-bpQUve",
        "outputId": "f8310d8e-ba9f-4e81-de1c-d6c43a18284f"
      },
      "source": [
        "comidas=[]\n",
        "for i in range(7):\n",
        "  comidas.append(input(\" %s Comida que te gusta: \" % (i+1)))  #Mismo código del ejercicio 1.1\n",
        "for i in range(7):  #Nuevo for para que se impriman hasta que termine de preguntar por las comidas favoritas\n",
        "  print(\"Una de mis comidas favoritas es:\")   #Imprimir la oración inicial\n",
        "  print(comidas[i])  #Imprimir cada comida \n",
        "\n",
        "  "
      ],
      "execution_count": null,
      "outputs": [
        {
          "name": "stdout",
          "output_type": "stream",
          "text": [
            " 1 Comida que te gusta: Sushi\n",
            " 2 Comida que te gusta: Tacos\n",
            " 3 Comida que te gusta: Hamburguesa\n",
            " 4 Comida que te gusta: Pizza\n",
            " 5 Comida que te gusta: Lasaña\n",
            " 6 Comida que te gusta: Alitas\n",
            " 7 Comida que te gusta: Aguachile\n",
            "Una de mis comidas favoritas es:\n",
            "Sushi\n",
            "Una de mis comidas favoritas es:\n",
            "Tacos\n",
            "Una de mis comidas favoritas es:\n",
            "Hamburguesa\n",
            "Una de mis comidas favoritas es:\n",
            "Pizza\n",
            "Una de mis comidas favoritas es:\n",
            "Lasaña\n",
            "Una de mis comidas favoritas es:\n",
            "Alitas\n",
            "Una de mis comidas favoritas es:\n",
            "Aguachile\n"
          ]
        }
      ]
    },
    {
      "cell_type": "markdown",
      "metadata": {
        "id": "C2XAdUhNQDay"
      },
      "source": [
        "Ejercicio 2\n",
        "Crear un juego de piedra, papel o tijera de dos jugadores. El programa preguntará por la opción del jugador 1 y la opción del jugador 2 y dará como resultado quien ganó el juego."
      ]
    },
    {
      "cell_type": "code",
      "metadata": {
        "id": "KVM6Hu2WQVPv",
        "colab": {
          "base_uri": "https://localhost:8080/"
        },
        "outputId": "4b884dc4-70d7-4505-9dd5-829959d57fcb"
      },
      "source": [
        "print(\"¿Quieren jugar?\")\n",
        "jugar = int(input(\"Ingrese 1 si la respuesta es sí o 2 si la respuesta es no: \"))   #Guardar entero para inicializar el while\n",
        "while jugar==1: #Se mantiene mientras los jugadores quieran seguir jugando\n",
        "  jugador1=int(input(\"Jugador 1 elige 1 para Piedra, 2 para Papel o 3 para Tijera: \")) #Se pregunta por jugador 1\n",
        "  jugador2=int(input(\"Jugador 2 elige 1 para Piedra, 2 para Papel o 3 para Tijera: \")) #Y ahora por jugador 2   \n",
        "  if jugador1==jugador2:\n",
        "    print(\"EMPATE\")\n",
        "    jugar= int(input(\"¿Quieren Jugar otra vez? Ingrese 1 si la respuesta es sí o 2 si la respuesta es no: \")) #Preguntar si quieren seguir jugando1\n",
        "  else:\n",
        "    if jugador1==1 and jugador2==2 or jugador1==3 and jugador2==1 or jugador1==2 and jugador2==3:\n",
        "      print(\"Jugador 2 gana\")\n",
        "      jugar= int(input(\"¿Quieren Jugar otra vez? Ingrese 1 si la respuesta es sí o 2 si la respuesta es no: \")) #Preguntar si quieren seguir jugando1\n",
        "    else:\n",
        "      print(\"Jugador 1 gana\")\n",
        "      jugar= int(input(\"¿Quieren Jugar otra vez? Ingrese 1 si la respuesta es sí o 2 si la respuesta es no: \")) #Preguntar si quieren seguir jugando1\n",
        "print(\"El juego terminó.\") #Ya no quieren jugar, ahora el valor de \"jugar\" es 2 y sale del while.\n"
      ],
      "execution_count": 89,
      "outputs": [
        {
          "output_type": "stream",
          "name": "stdout",
          "text": [
            "¿Quieren jugar?\n",
            "Ingrese 1 si la respuesta es sí o 2 si la respuesta es no: 1\n",
            "Jugador 1 elige 1 para Piedra, 2 para Papel o 3 para Tijera: 1\n",
            "Jugador 2 elige 1 para Piedra, 2 para Papel o 3 para Tijera: 2\n",
            "Jugador 2 gana\n",
            "¿Quieren Jugar otra vez? Ingrese 1 si la respuesta es sí o 2 si la respuesta es no: 1\n",
            "Jugador 1 elige 1 para Piedra, 2 para Papel o 3 para Tijera: 2\n",
            "Jugador 2 elige 1 para Piedra, 2 para Papel o 3 para Tijera: 3\n",
            "Jugador 2 gana\n",
            "¿Quieren Jugar otra vez? Ingrese 1 si la respuesta es sí o 2 si la respuesta es no: 1\n",
            "Jugador 1 elige 1 para Piedra, 2 para Papel o 3 para Tijera: 2\n",
            "Jugador 2 elige 1 para Piedra, 2 para Papel o 3 para Tijera: 2\n",
            "EMPATE\n",
            "¿Quieren Jugar otra vez? Ingrese 1 si la respuesta es sí o 2 si la respuesta es no: 1 \n",
            "Jugador 1 elige 1 para Piedra, 2 para Papel o 3 para Tijera: 3\n",
            "Jugador 2 elige 1 para Piedra, 2 para Papel o 3 para Tijera: 2\n",
            "Jugador 1 gana\n",
            "¿Quieren Jugar otra vez? Ingrese 1 si la respuesta es sí o 2 si la respuesta es no: 2\n",
            "El juego terminó.\n"
          ]
        }
      ]
    },
    {
      "cell_type": "markdown",
      "metadata": {
        "id": "rDitd_0eQH79"
      },
      "source": [
        "Ejercicio 3\n",
        "Implementar un programa que imprima el siguiente patron:\n",
        "\n",
        "123456\n",
        "\n",
        "12345\n",
        "\n",
        "1234\n",
        "\n",
        "123\n",
        "\n",
        "12\n",
        "\n",
        "1\n",
        "\n",
        "12\n",
        "\n",
        "123\n",
        "\n",
        "1234\n",
        "\n",
        "12345 \n",
        "\n",
        "123456"
      ]
    },
    {
      "cell_type": "code",
      "metadata": {
        "colab": {
          "base_uri": "https://localhost:8080/"
        },
        "id": "O78l3ZC_XSug",
        "outputId": "0a2cd8ea-4c2a-42ba-80e6-6121b40f9295"
      },
      "source": [
        "for i in range(6, 1, -1): #La \"i\" va disminuyendo de 1 en 1\n",
        "  for j in range(1, i+1, 1): #Ciclo para imprimir del 1 al 6, del 1 al 5... tomando en cuenta la \"i\" del primer for\n",
        "    print(j, end=\" \") #end=\" \" para mantener la impresión del ciclo de \"j\" en el mismo renglón\n",
        "  print() #se imprime un enter para cada ciclo de \"i\"\n",
        "for i in range (1,7,1): #La \"i\" va aumentando de 1 en 1 \n",
        "  for j in range (1,i+1,1):  #Ciclo para imprimir del 1 al 2, del 1 al 3... tomando en cuenta la \"i\" del primer for.\n",
        "    print(j,end=\" \") #end=\" \" para mantener la impresión del ciclo de \"j\" en el mismo renglón\n",
        "  print() #se imprime un enter para cada ciclo de \"i\""
      ],
      "execution_count": 143,
      "outputs": [
        {
          "output_type": "stream",
          "name": "stdout",
          "text": [
            "1 2 3 4 5 6 \n",
            "1 2 3 4 5 \n",
            "1 2 3 4 \n",
            "1 2 3 \n",
            "1 2 \n",
            "1 \n",
            "1 2 \n",
            "1 2 3 \n",
            "1 2 3 4 \n",
            "1 2 3 4 5 \n",
            "1 2 3 4 5 6 \n"
          ]
        }
      ]
    }
  ]
}