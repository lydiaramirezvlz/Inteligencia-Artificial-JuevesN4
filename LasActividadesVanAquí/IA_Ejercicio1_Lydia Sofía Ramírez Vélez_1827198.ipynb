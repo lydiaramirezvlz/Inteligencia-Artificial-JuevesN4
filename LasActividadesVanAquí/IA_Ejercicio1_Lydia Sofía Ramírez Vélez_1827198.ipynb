{
  "nbformat": 4,
  "nbformat_minor": 0,
  "metadata": {
    "colab": {
      "name": "Te damos la bienvenida a Colaboratory",
      "provenance": [],
      "collapsed_sections": [],
      "toc_visible": true
    },
    "kernelspec": {
      "display_name": "Python 3",
      "name": "python3"
    }
  },
  "cells": [
    {
      "cell_type": "markdown",
      "metadata": {
        "id": "C3onKq8YCrmZ"
      },
      "source": [
        "Actividad 2.- Ejercicios Introducción Python\n",
        "\n",
        "Lydia Sofía Ramírez Vélez 1827198 \n",
        "\n",
        "Inteligencia Artificial y Redes Neuronales Jueves N4"
      ]
    },
    {
      "cell_type": "markdown",
      "metadata": {
        "id": "xnBQufTCDHkL"
      },
      "source": [
        "Ejercicio 1.\n",
        "\n",
        "Crear un programa que pregunte al usuario por su nombre, edad, una frase favorita y autor de la frase favorita. El programa deberá de imprimir un mensaje compuesto por el nombre y edad del usuario diciendo que su frase favorita es la que dió anteriormente y el autor de dicha frase es el nombre previamente dado. Aquí habrá que realizar una concatenación de variables."
      ]
    },
    {
      "cell_type": "code",
      "metadata": {
        "id": "okWJNNAuHwa3",
        "outputId": "7c9aa947-8357-4a66-d523-64f86fde5269",
        "colab": {
          "base_uri": "https://localhost:8080/"
        }
      },
      "source": [
        "#input sirve para leer cadenas\n",
        "nombre = input(\"¿Cuál es tu nombre? \")\n",
        "edad = input(\"¿Cuántos años tienes? \")\n",
        "frase = input(\"¿Cuál es tu frase favorita? \")\n",
        "autor = input(\"¿Quién es el autor de la frase? \")\n",
        "datos = \"Tu nombre es \" + nombre + \" y tienes \" + edad +\" años.\" #Concatenación de variables, nombre y edad\n",
        "fav = \"Tu frase favorita es \" + frase + \" de \" + autor #Concatenación de variables, frase y autor\n",
        "print(datos+fav) "
      ],
      "execution_count": 7,
      "outputs": [
        {
          "output_type": "stream",
          "text": [
            "¿Cuál es tu nombre? Lydia Sofía\n",
            "¿Cuántos años tienes? 21\n",
            "¿Cuál es tu frase favorita? \"Que el fin del mundo te pille bailando\"\n",
            "¿Quién es el autor de la frase? Joaquín Sabina\n",
            "Tu nombre es Lydia Sofía y tienes 21 años.Tu frase favorita es \"Que el fin del mundo te pille bailando\" de Joaquín Sabina\n"
          ],
          "name": "stdout"
        }
      ]
    },
    {
      "cell_type": "markdown",
      "metadata": {
        "id": "yu3ojIunDk_E"
      },
      "source": [
        "Ejercicio 2 \n",
        "\n",
        "Crear un programa que le pida al usuario capturar dos números enteros y dos números flotantes. Después, realizará la suma, resta, multiplicación y división, de ambos pares de números. Como resultado se deberán de obtener 8 valores. Imprimir todos estos reultados."
      ]
    },
    {
      "cell_type": "code",
      "metadata": {
        "id": "OHk25ROPLeuy",
        "outputId": "29dd05f5-5c1c-4536-a582-29125112bc5b",
        "colab": {
          "base_uri": "https://localhost:8080/"
        }
      },
      "source": [
        "#Para leer números convertimos el input que se encarga de las cadenas \n",
        "#agregando la función \"int\" para enteros o \"float\" para decimales\n",
        "\n",
        "ne1 = int(input(\"Ingrese primer número entero: \"))\n",
        "ne2 = int(input(\"Ingrese segundo número entero distinto de cero: \"))\n",
        "while ne2==0: \n",
        "    print(\"Número no válido\")\n",
        "    ne2=int(input(\"Ingrese un número entero distinto de cero: \"))\n",
        "nf1 = float(input(\"Ingrese primer número decimal: \"))\n",
        "nf2 = float(input(\"Ingrese segundo número decimal: \"))\n",
        "while nf2==0: \n",
        "    print(\"Número no válido\")\n",
        "    nf2 = float(input(\"Ingrese un número entero distinto de cero: \"))\n",
        "sumae = ne1+ne2\n",
        "restae = ne1-ne2\n",
        "multe = ne1*ne2\n",
        "dive = ne1/ne2 \n",
        "sumaf = nf1+nf2\n",
        "restaf = nf1-nf2\n",
        "multf = nf1*nf2\n",
        "divf = nf1/nf2 \n",
        "print(\"La suma de enteros es: \",sumae, \"La resta es: \",restae, \"La multiplicación es: \",multe, \"Y la división es: \",dive)\n",
        "print(\"La suma de decimales es: \",sumaf, \"La resta es: \",restaf, \"La multiplicación es: \",multf, \"Y la división es: \",divf)"
      ],
      "execution_count": 24,
      "outputs": [
        {
          "output_type": "stream",
          "text": [
            "Ingrese primer número entero: 8\n",
            "Ingrese segundo número entero distinto de cero: 0\n",
            "Número no válido\n",
            "Ingrese un número entero distinto de cero: 2\n",
            "Ingrese primer número decimal: 8.5\n",
            "Ingrese segundo número decimal: 0\n",
            "Número no válido\n",
            "Ingrese un número entero distinto de cero: 1.2\n",
            "La suma de enteros es:  10 La resta es:  6 La multiplicación es:  16 Y la división es:  4.0\n",
            "La suma de decimales es:  9.7 La resta es:  7.3 La multiplicación es:  10.2 Y la división es:  7.083333333333334\n"
          ],
          "name": "stdout"
        }
      ]
    },
    {
      "cell_type": "markdown",
      "metadata": {
        "id": "U2I950BqDvcV"
      },
      "source": [
        "Ejercicio 3\n",
        "\n",
        "Crear un programa que evalúe dos expresiones lógicas con `and`, dos con `or` y dos con `not`. Cada expresión deberá hacer uso de operadores de comparación. "
      ]
    },
    {
      "cell_type": "code",
      "metadata": {
        "id": "s2zPUTwKQYFb",
        "outputId": "ab8135ca-88e9-45cf-8e7f-876cdb4ebe15",
        "colab": {
          "base_uri": "https://localhost:8080/"
        }
      },
      "source": [
        "a = int(input(\"Ingrese número entero: \"))\n",
        "b = int(input(\"Ingrese número entero: \"))\n",
        "c = int(input(\"Ingrese número entero: \"))\n",
        "print(a>b and b>c)\n",
        "print(a<b and b<c)\n",
        "print(a==b or a>b)\n",
        "print(b==c or b>c)\n",
        "print (not(a>b and b>c))\n",
        "print (not(a<b and b<c))"
      ],
      "execution_count": 29,
      "outputs": [
        {
          "output_type": "stream",
          "text": [
            "Ingrese número entero: 8\n",
            "Ingrese número entero: 5\n",
            "Ingrese número entero: 3\n",
            "True\n",
            "False\n",
            "True\n",
            "True\n",
            "False\n",
            "True\n"
          ],
          "name": "stdout"
        }
      ]
    }
  ]
}